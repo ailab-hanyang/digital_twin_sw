{
 "cells": [
  {
   "cell_type": "markdown",
   "id": "15997148",
   "metadata": {
    "vscode": {
     "languageId": "raw"
    }
   },
   "source": [
    "<!-- \n",
    " * @file        1_dev_environment.ipynb\n",
    " * @brief       This notebook sets up the development environment for ADAS SW practice.\n",
    " * \n",
    " * @authors     Jiwon Seok (pauljiwon96@gmail.com)\n",
    " *              Jaehwan Lee (idljh5529@gmail.com)        \n",
    " *\n",
    " * @date        2025-08-11 Released by AI Lab, Hanyang University\n",
    " * \n",
    "-->\n",
    "\n",
    "# 1강: 개발 환경 구축\n",
    "\n",
    "이 노트북에서는 다양한 DCAS Sofrware 관련 practice를 진행하기 위한 개발 환경을 구축하는 과정을 안내합니다. Visual Studio Code 및 필수 라이브러리 설치 방법을 단계별로 설명합니다.\n"
   ]
  },
  {
   "cell_type": "markdown",
   "id": "6b367e05",
   "metadata": {
    "vscode": {
     "languageId": "raw"
    }
   },
   "source": [
    "## 1. Visual Studio Code 설치\n",
    "\n",
    "코딩을 위한 에디터로 Visual Studio Code(VS Code)를 사용합니다. 가볍고 강력하며 다양한 확장 프로그램을 지원하여 파이썬 개발에 매우 편리합니다.\n",
    "\n",
    "1. **[VS Code 공식 홈페이지](https://code.visualstudio.com/)**에 접속하여 자신의 운영체제에 맞는 설치 파일을 다운로드합니다.\n",
    "2. 설치 파일을 실행하여 지침에 따라 설치를 진행합니다. 설치 중 'Add to PATH' 또는 'Code로 열기' 옵션을 체크하면 더욱 편리하게 사용할 수 있습니다.\n",
    "\n",
    "<img src=\"../resources/ch1/vscode.png\" width=\"50%\">\n",
    "\n",
    "<그림 1: VS Code 다운로드 페이지>\n"
   ]
  },
  {
   "cell_type": "markdown",
   "id": "cb6f4462",
   "metadata": {
    "vscode": {
     "languageId": "raw"
    }
   },
   "source": [
    "## 2. VS Code 확장 프로그램 설치\n",
    "\n",
    "VS Code 설치 후, 파이썬 개발과 주피터 노트북 사용을 위해 다음 두 가지 핵심 확장 프로그램을 설치합니다.\n",
    "\n",
    "1. VS Code 왼쪽의 확장 프로그램 탭(Extensions, `Ctrl+Shift+X`)을 엽니다.\n",
    "2. 검색창에 `Python`을 검색하여 Microsoft에서 제공하는 공식 확장 프로그램을 설치합니다.\n",
    "3. 같은 방식으로 `Jupyter`를 검색하여 Microsoft에서 제공하는 Jupyter Notebook 지원 확장 프로그램을 설치합니다.\n",
    "\n",
    "<img src=\"../resources/ch1/vscode_python_extention.png\" width=\"50%\">\n",
    "\n",
    "<그림 2: VS Code에서 Python과 Jupyter 확장 프로그램 검색 및 설치 화면>\n"
   ]
  },
  {
   "cell_type": "markdown",
   "id": "017655b1",
   "metadata": {
    "vscode": {
     "languageId": "raw"
    }
   },
   "source": [
    "## 3. 필수 라이브러리 설치\n",
    "\n",
    "실습에 필요한 라이브러리들을 설치합니다. `pip`을 사용하여 설치하겠습니다.\n"
   ]
  },
  {
   "cell_type": "code",
   "execution_count": null,
   "id": "d1d89d05",
   "metadata": {
    "vscode": {
     "languageId": "shellscript"
    }
   },
   "outputs": [],
   "source": [
    "# 필수 라이브러리를 설치합니다.\n",
    "# NumPy (수치 계산 라이브러리)\n",
    "# Matplotlib (그래프 그리기 라이브러리)\n",
    "# rospkg (ROS 패키지 관리 라이브러리)\n",
    "# rosbag (ROS 데이터 저장 라이브러리)\n",
    "# pycryptodomex (암호화 라이브러리)\n",
    "# gnupg (GPG 라이브러리)\n",
    "# pandas (데이터 분석 라이브러리)\n",
    "# folium (지도 시각화 라이브러리)\n",
    "# opencv-python (영상 처리 라이브러리)\n",
    "# scipy (과학 계산 라이브러리)\n",
    "# Open3D (Python 3.7과 호환되는 0.17.0 버전을 명시적으로 설치)\n",
    "# plyfile (PLY 포인트 클라우드 파일 읽기/쓰기 라이브러리)\n",
    "# Jupyter (이 노트북을 실행하기 위한 라이브러리)\n",
    "# ffmpeg (비디오 및 오디오 처리 라이브러리, Python에서는 ffmpeg-python 래퍼 사용 가능)\n",
    "# graphviz (그래프 구조 시각화 라이브러리)\n",
    "# pygame (게임 개발 및 멀티미디어 애플리케이션 제작 라이브러리)\n",
    "pip install --upgrade pip\n",
    "pip install -r requirements.txt\n",
    "\n",
    "# open3d 설치 중 버전 못 찾는 에러 발생 시 아래 명령어를 실행 후 다시 실행하세요.\n",
    "# echo 'export PATH=\"$HOME/.local/bin:$PATH\"' >> ~/.bashrc\n",
    "# source ~/.bashrc"
   ]
  },
  {
   "cell_type": "markdown",
   "id": "540cb086",
   "metadata": {
    "vscode": {
     "languageId": "raw"
    }
   },
   "source": [
    "## 4. Jupyter Notebook에서 작업환경 커널 연결\n",
    "\n",
    "설치한 환경을 Jupyter Notebook의 커널로 사용하도록 설정해야 합니다.\n",
    "\n",
    "예시) Python 3.8.10 /usr/bin/python3\n",
    "\n",
    "1. VS Code에서 이 `.ipynb` 파일을 엽니다.\n",
    "2. 우측 상단의 '커널 선택(Select Kernel)' 버튼을 클릭합니다.\n",
    "3. 'Python Environments'를 선택하면 사용 가능한 파이썬 인터프리터 목록이 나타납니다.\n",
    "4. 목록에서 `'Python 3.8.10 /usr/bin/python3'` 라고 표시된 환경을 선택합니다.\n",
    "\n",
    "이제 모든 설정이 완료되었습니다. 아래 코드 셀을 실행하여 Open3D가 성공적으로 설치되었는지 확인해봅시다.\n"
   ]
  },
  {
   "cell_type": "code",
   "execution_count": null,
   "id": "12fe05a3",
   "metadata": {},
   "outputs": [],
   "source": [
    "import open3d as o3d\n",
    "\n",
    "# Check the version of Open3D\n",
    "print(f\"Open3D 버전: {o3d.__version__}\")\n"
   ]
  },
  {
   "cell_type": "markdown",
   "id": "6c907af4",
   "metadata": {
    "vscode": {
     "languageId": "raw"
    }
   },
   "source": [
    "## 요약\n",
    "\n",
    "이번 강의에서는 다음과 같은 내용을 다루었습니다.\n",
    "\n",
    "- VS Code 및 필수 확장 프로그램 설치\n",
    "- `pip`을 이용한 Open3D, NumPy 등 라이브러리 설치\n",
    "- VS Code Jupyter Notebook에서 커널 연결\n",
    "\n",
    "이제 Point Cloud 데이터를 다루기 위한 모든 준비가 끝났습니다. 다음 강의부터 본격적으로 Open3D의 기능을 알아보겠습니다.\n"
   ]
  }
 ],
 "metadata": {
  "kernelspec": {
   "display_name": "dcas_practice",
   "language": "python",
   "name": "python3"
  },
  "language_info": {
   "codemirror_mode": {
    "name": "ipython",
    "version": 3
   },
   "file_extension": ".py",
   "mimetype": "text/x-python",
   "name": "python",
   "nbconvert_exporter": "python",
   "pygments_lexer": "ipython3",
   "version": "3.11.13"
  }
 },
 "nbformat": 4,
 "nbformat_minor": 5
}
